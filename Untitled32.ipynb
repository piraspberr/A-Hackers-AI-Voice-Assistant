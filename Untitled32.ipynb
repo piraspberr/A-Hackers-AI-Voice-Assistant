{
  "nbformat": 4,
  "nbformat_minor": 0,
  "metadata": {
    "colab": {
      "name": "Untitled32.ipynb",
      "private_outputs": true,
      "provenance": [],
      "collapsed_sections": [],
      "include_colab_link": true
    },
    "kernelspec": {
      "name": "python3",
      "display_name": "Python 3"
    },
    "language_info": {
      "name": "python"
    },
    "accelerator": "GPU"
  },
  "cells": [
    {
      "cell_type": "markdown",
      "metadata": {
        "id": "view-in-github",
        "colab_type": "text"
      },
      "source": [
        "<a href=\"https://colab.research.google.com/github/piraspberr/A-Hackers-AI-Voice-Assistant/blob/master/Untitled32.ipynb\" target=\"_parent\"><img src=\"https://colab.research.google.com/assets/colab-badge.svg\" alt=\"Open In Colab\"/></a>"
      ]
    },
    {
      "cell_type": "markdown",
      "metadata": {
        "id": "d8HXpfl4ap4w"
      },
      "source": [
        "Hi hello there this is a little placeholder notebook. It's not, like, all fancy and stuff yet, but at least it works (in theory)\n",
        "\n",
        "Credit goes to the people from the PPP that I stole this notebook from.\n",
        "\n",
        "Here is a plug for my YouTube channel https://www.youtube.com/channel/UCKloHARyAPNotL5aGXZGerg\n",
        "\n",
        "This is the part of this text where I pretend that if you comment something, I'll answer it. I won't. One of these days, I'll get around to it. Maybe..."
      ]
    },
    {
      "cell_type": "code",
      "metadata": {
        "id": "JEBBzewjaGWI"
      },
      "source": [
        ""
      ],
      "execution_count": null,
      "outputs": []
    }
  ]
}